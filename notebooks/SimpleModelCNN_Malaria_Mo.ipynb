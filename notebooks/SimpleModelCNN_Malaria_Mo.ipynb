{
 "cells": [
  {
   "cell_type": "markdown",
   "id": "a308f7be",
   "metadata": {},
   "source": [
    "## Simple CNN Malaria \n",
    "with 3000 pictures of each class (uninfected/infected)"
   ]
  },
  {
   "cell_type": "code",
   "execution_count": 1,
   "id": "bcbe28b6",
   "metadata": {},
   "outputs": [
    {
     "name": "stderr",
     "output_type": "stream",
     "text": [
      "2021-12-01 00:03:38.537797: W tensorflow/stream_executor/platform/default/dso_loader.cc:64] Could not load dynamic library 'libcudart.so.11.0'; dlerror: libcudart.so.11.0: cannot open shared object file: No such file or directory\n",
      "2021-12-01 00:03:38.537859: I tensorflow/stream_executor/cuda/cudart_stub.cc:29] Ignore above cudart dlerror if you do not have a GPU set up on your machine.\n"
     ]
    }
   ],
   "source": [
    "from tensorflow.keras.utils import set_random_seed\n",
    "set_random_seed(0)"
   ]
  },
  {
   "cell_type": "markdown",
   "id": "bd2e3b7d",
   "metadata": {},
   "source": [
    "#### Training"
   ]
  },
  {
   "cell_type": "code",
   "execution_count": 2,
   "id": "097f852e",
   "metadata": {},
   "outputs": [
    {
     "name": "stdout",
     "output_type": "stream",
     "text": [
      "Found 6000 files belonging to 2 classes.\n",
      "Using 4800 files for training.\n"
     ]
    },
    {
     "name": "stderr",
     "output_type": "stream",
     "text": [
      "2021-12-01 00:03:41.778678: W tensorflow/stream_executor/platform/default/dso_loader.cc:64] Could not load dynamic library 'libcuda.so.1'; dlerror: libcuda.so.1: cannot open shared object file: No such file or directory\n",
      "2021-12-01 00:03:41.778736: W tensorflow/stream_executor/cuda/cuda_driver.cc:269] failed call to cuInit: UNKNOWN ERROR (303)\n",
      "2021-12-01 00:03:41.778791: I tensorflow/stream_executor/cuda/cuda_diagnostics.cc:156] kernel driver does not appear to be running on this host (LAPTOP-RMG61NL5): /proc/driver/nvidia/version does not exist\n",
      "2021-12-01 00:03:41.779127: I tensorflow/core/platform/cpu_feature_guard.cc:151] This TensorFlow binary is optimized with oneAPI Deep Neural Network Library (oneDNN) to use the following CPU instructions in performance-critical operations:  AVX2 AVX512F FMA\n",
      "To enable them in other operations, rebuild TensorFlow with the appropriate compiler flags.\n"
     ]
    },
    {
     "data": {
      "text/plain": [
       "<BatchDataset shapes: ((None, 128, 128, 3), (None, 1)), types: (tf.float32, tf.float32)>"
      ]
     },
     "execution_count": 2,
     "metadata": {},
     "output_type": "execute_result"
    }
   ],
   "source": [
    "from tensorflow.keras.preprocessing import image_dataset_from_directory\n",
    "\n",
    "data_train = image_dataset_from_directory('../raw_data/malaria/SimpleModel/',          \n",
    "                                        labels ='inferred',\n",
    "                                        label_mode='binary',\n",
    "                                        color_mode='rgb',                         \n",
    "                                        batch_size=32,\n",
    "                                        image_size=(128,128),\n",
    "                                        shuffle=True,\n",
    "                                        seed=42,\n",
    "                                        validation_split=0.2,\n",
    "                                        subset='training',\n",
    "                                        crop_to_aspect_ratio=False)\n",
    "data_train"
   ]
  },
  {
   "cell_type": "markdown",
   "id": "6a16da52",
   "metadata": {},
   "source": [
    "#### Validation "
   ]
  },
  {
   "cell_type": "code",
   "execution_count": 3,
   "id": "fa73023a",
   "metadata": {},
   "outputs": [
    {
     "name": "stdout",
     "output_type": "stream",
     "text": [
      "Found 6000 files belonging to 2 classes.\n",
      "Using 1200 files for validation.\n"
     ]
    },
    {
     "data": {
      "text/plain": [
       "<BatchDataset shapes: ((None, 128, 128, 3), (None, 1)), types: (tf.float32, tf.float32)>"
      ]
     },
     "execution_count": 3,
     "metadata": {},
     "output_type": "execute_result"
    }
   ],
   "source": [
    "data_val = image_dataset_from_directory('../raw_data/malaria/SimpleModel/',          \n",
    "                                        labels ='inferred',\n",
    "                                        label_mode='binary',\n",
    "                                        color_mode='rgb',                         \n",
    "                                        batch_size=32,\n",
    "                                        image_size=(128,128),\n",
    "                                        shuffle=True,\n",
    "                                        seed=42,\n",
    "                                        validation_split=0.2,\n",
    "                                        subset='validation',\n",
    "                                        crop_to_aspect_ratio=False)\n",
    "data_val"
   ]
  },
  {
   "cell_type": "markdown",
   "id": "e1d45aff",
   "metadata": {},
   "source": [
    "#### Model "
   ]
  },
  {
   "cell_type": "code",
   "execution_count": 4,
   "id": "41dbb1b1",
   "metadata": {},
   "outputs": [],
   "source": [
    "from tensorflow.keras import models\n",
    "from tensorflow.keras import layers\n",
    "from tensorflow.keras.layers.experimental.preprocessing import Rescaling\n",
    "\n",
    "model = models.Sequential()\n",
    "model.add(Rescaling(1./255, input_shape=(128,128,3)))\n",
    "model.add(layers.Conv2D(16, (3,3), activation='relu'))\n",
    "model.add(layers.MaxPool2D(pool_size=(2,2)))\n",
    "model.add(layers.Dropout(0.1))\n",
    "model.add(layers.Conv2D(32, (3,3), activation='relu'))\n",
    "model.add(layers.MaxPool2D(pool_size=(2,2)))\n",
    "model.add(layers.Dropout(0.2))\n",
    "model.add(layers.Conv2D(64, (3,3), activation='relu'))\n",
    "model.add(layers.MaxPool2D(pool_size=(2,2)))\n",
    "model.add(layers.Dropout(0.3))\n",
    "model.add(layers.Flatten())\n",
    "model.add(layers.Dense(64, activation='relu'))\n",
    "model.add(layers.Dropout(0.5))\n",
    "model.add(layers.Dense(1, activation='sigmoid'))"
   ]
  },
  {
   "cell_type": "code",
   "execution_count": 5,
   "id": "16b58803",
   "metadata": {},
   "outputs": [
    {
     "name": "stdout",
     "output_type": "stream",
     "text": [
      "Model: \"sequential\"\n",
      "_________________________________________________________________\n",
      " Layer (type)                Output Shape              Param #   \n",
      "=================================================================\n",
      " rescaling (Rescaling)       (None, 128, 128, 3)       0         \n",
      "                                                                 \n",
      " conv2d (Conv2D)             (None, 126, 126, 16)      448       \n",
      "                                                                 \n",
      " max_pooling2d (MaxPooling2D  (None, 63, 63, 16)       0         \n",
      " )                                                               \n",
      "                                                                 \n",
      " dropout (Dropout)           (None, 63, 63, 16)        0         \n",
      "                                                                 \n",
      " conv2d_1 (Conv2D)           (None, 61, 61, 32)        4640      \n",
      "                                                                 \n",
      " max_pooling2d_1 (MaxPooling  (None, 30, 30, 32)       0         \n",
      " 2D)                                                             \n",
      "                                                                 \n",
      " dropout_1 (Dropout)         (None, 30, 30, 32)        0         \n",
      "                                                                 \n",
      " conv2d_2 (Conv2D)           (None, 28, 28, 64)        18496     \n",
      "                                                                 \n",
      " max_pooling2d_2 (MaxPooling  (None, 14, 14, 64)       0         \n",
      " 2D)                                                             \n",
      "                                                                 \n",
      " dropout_2 (Dropout)         (None, 14, 14, 64)        0         \n",
      "                                                                 \n",
      " flatten (Flatten)           (None, 12544)             0         \n",
      "                                                                 \n",
      " dense (Dense)               (None, 64)                802880    \n",
      "                                                                 \n",
      " dropout_3 (Dropout)         (None, 64)                0         \n",
      "                                                                 \n",
      " dense_1 (Dense)             (None, 1)                 65        \n",
      "                                                                 \n",
      "=================================================================\n",
      "Total params: 826,529\n",
      "Trainable params: 826,529\n",
      "Non-trainable params: 0\n",
      "_________________________________________________________________\n"
     ]
    }
   ],
   "source": [
    "model.summary()"
   ]
  },
  {
   "cell_type": "code",
   "execution_count": 6,
   "id": "4e82e705",
   "metadata": {},
   "outputs": [],
   "source": [
    "from tensorflow.keras import optimizers\n",
    "\n",
    "adam = optimizers.Adam()\n",
    "\n",
    "model.compile(loss='binary_crossentropy',\n",
    "             optimizer=adam,\n",
    "             metrics=['accuracy','Recall'])"
   ]
  },
  {
   "cell_type": "code",
   "execution_count": 7,
   "id": "004796d0",
   "metadata": {},
   "outputs": [
    {
     "name": "stdout",
     "output_type": "stream",
     "text": [
      "Epoch 1/15\n",
      "150/150 [==============================] - 25s 163ms/step - loss: 0.6882 - accuracy: 0.5429 - recall: 0.5021 - val_loss: 0.6469 - val_accuracy: 0.6533 - val_recall: 0.6849\n",
      "Epoch 2/15\n",
      "150/150 [==============================] - 29s 193ms/step - loss: 0.6259 - accuracy: 0.6692 - recall: 0.6749 - val_loss: 0.4915 - val_accuracy: 0.8067 - val_recall: 0.7412\n",
      "Epoch 3/15\n",
      "150/150 [==============================] - 35s 236ms/step - loss: 0.4113 - accuracy: 0.8402 - recall: 0.9138 - val_loss: 0.3214 - val_accuracy: 0.8842 - val_recall: 0.9807\n",
      "Epoch 4/15\n",
      "150/150 [==============================] - 35s 230ms/step - loss: 0.4272 - accuracy: 0.8494 - recall: 0.9613 - val_loss: 0.6107 - val_accuracy: 0.6717 - val_recall: 0.9904\n",
      "Epoch 5/15\n",
      "150/150 [==============================] - 34s 223ms/step - loss: 0.4036 - accuracy: 0.8269 - recall: 0.8974 - val_loss: 0.3065 - val_accuracy: 0.9158 - val_recall: 0.9823\n",
      "Epoch 6/15\n",
      "150/150 [==============================] - 32s 213ms/step - loss: 0.3196 - accuracy: 0.8898 - recall: 0.9630 - val_loss: 0.2870 - val_accuracy: 0.9158 - val_recall: 0.9695\n",
      "Epoch 7/15\n",
      "150/150 [==============================] - 28s 185ms/step - loss: 0.2796 - accuracy: 0.9023 - recall: 0.9626 - val_loss: 0.2599 - val_accuracy: 0.9158 - val_recall: 0.9759\n",
      "Epoch 8/15\n",
      "150/150 [==============================] - 19s 129ms/step - loss: 0.2377 - accuracy: 0.9181 - recall: 0.9521 - val_loss: 0.2333 - val_accuracy: 0.9267 - val_recall: 0.9437\n",
      "Epoch 9/15\n",
      "150/150 [==============================] - 20s 131ms/step - loss: 0.2160 - accuracy: 0.9285 - recall: 0.9563 - val_loss: 0.2091 - val_accuracy: 0.9300 - val_recall: 0.9630\n",
      "Epoch 10/15\n",
      "150/150 [==============================] - 22s 148ms/step - loss: 0.1893 - accuracy: 0.9319 - recall: 0.9567 - val_loss: 0.2294 - val_accuracy: 0.9325 - val_recall: 0.9293\n",
      "Epoch 11/15\n",
      "150/150 [==============================] - 24s 161ms/step - loss: 0.1825 - accuracy: 0.9373 - recall: 0.9605 - val_loss: 0.2008 - val_accuracy: 0.9467 - val_recall: 0.9614\n",
      "Epoch 12/15\n",
      "150/150 [==============================] - 26s 174ms/step - loss: 0.1589 - accuracy: 0.9477 - recall: 0.9659 - val_loss: 0.2072 - val_accuracy: 0.9425 - val_recall: 0.9598\n",
      "Epoch 13/15\n",
      "150/150 [==============================] - 35s 233ms/step - loss: 0.1481 - accuracy: 0.9513 - recall: 0.9664 - val_loss: 0.2133 - val_accuracy: 0.9392 - val_recall: 0.9598\n",
      "Epoch 14/15\n",
      "150/150 [==============================] - 47s 309ms/step - loss: 0.1404 - accuracy: 0.9515 - recall: 0.9664 - val_loss: 0.2209 - val_accuracy: 0.9350 - val_recall: 0.9534\n",
      "Epoch 15/15\n",
      "150/150 [==============================] - 39s 262ms/step - loss: 0.1192 - accuracy: 0.9608 - recall: 0.9777 - val_loss: 0.2257 - val_accuracy: 0.9458 - val_recall: 0.9630\n"
     ]
    }
   ],
   "source": [
    "from tensorflow.keras import callbacks\n",
    "\n",
    "es = callbacks.EarlyStopping(patience=5, restore_best_weights=True)\n",
    "\n",
    "history = model.fit(data_train,\n",
    "                    epochs=15,\n",
    "                    callbacks=es,\n",
    "                    validation_data=data_val)"
   ]
  },
  {
   "cell_type": "markdown",
   "id": "964d3973",
   "metadata": {},
   "source": [
    "#### Plots"
   ]
  },
  {
   "cell_type": "code",
   "execution_count": 8,
   "id": "16cfd213",
   "metadata": {},
   "outputs": [
    {
     "data": {
      "image/png": "[encoded data removed]",
      "text/plain": [
       "<Figure size 432x288 with 1 Axes>"
      ]
     },
     "metadata": {
      "needs_background": "light"
     },
     "output_type": "display_data"
    }
   ],
   "source": [
    "import matplotlib.pyplot as plt\n",
    "\n",
    "plt.plot(history.history['accuracy'])\n",
    "plt.plot(history.history['val_accuracy'])\n",
    "plt.title('model accuracy')\n",
    "plt.ylabel('accuracy')\n",
    "plt.xlabel('epoch')\n",
    "plt.legend(['train', 'val'], loc='upper left')\n",
    "plt.show()"
   ]
  },
  {
   "cell_type": "code",
   "execution_count": 9,
   "id": "ccb511f5",
   "metadata": {},
   "outputs": [
    {
     "data": {
      "image/png": "[encoded data removed]",
      "text/plain": [
       "<Figure size 432x288 with 1 Axes>"
      ]
     },
     "metadata": {
      "needs_background": "light"
     },
     "output_type": "display_data"
    }
   ],
   "source": [
    "plt.plot(history.history['loss'])\n",
    "plt.plot(history.history['val_loss'])\n",
    "plt.title('model loss')\n",
    "plt.ylabel('loss')\n",
    "plt.xlabel('epoch')\n",
    "plt.legend(['train', 'val'], loc='upper right')\n",
    "plt.show()"
   ]
  },
  {
   "cell_type": "code",
   "execution_count": null,
   "id": "3fd36427",
   "metadata": {},
   "outputs": [],
   "source": [
    "#model.evaluate(data_val)"
   ]
  },
  {
   "cell_type": "code",
   "execution_count": null,
   "id": "66b1fbd9",
   "metadata": {},
   "outputs": [],
   "source": []
  },
  {
   "cell_type": "code",
   "execution_count": null,
   "id": "9d2485c1",
   "metadata": {},
   "outputs": [],
   "source": []
  }
 ],
 "metadata": {
  "kernelspec": {
   "display_name": "Python 3 (ipykernel)",
   "language": "python",
   "name": "python3"
  },
  "language_info": {
   "codemirror_mode": {
    "name": "ipython",
    "version": 3
   },
   "file_extension": ".py",
   "mimetype": "text/x-python",
   "name": "python",
   "nbconvert_exporter": "python",
   "pygments_lexer": "ipython3",
   "version": "3.8.12"
  }
 },
 "nbformat": 4,
 "nbformat_minor": 5
}
