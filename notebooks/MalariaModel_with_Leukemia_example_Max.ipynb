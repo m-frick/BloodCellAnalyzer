{
 "cells": [
  {
   "cell_type": "markdown",
   "id": "bb05c4cc",
   "metadata": {},
   "source": [
    "WBC/RBC - Classifier"
   ]
  },
  {
   "cell_type": "code",
   "execution_count": 6,
   "id": "956b387e",
   "metadata": {},
   "outputs": [
    {
     "name": "stdout",
     "output_type": "stream",
     "text": [
      "Found 10661 files belonging to 2 classes.\n",
      "Using 7463 files for training.\n"
     ]
    }
   ],
   "source": [
    "\n",
    "from tensorflow.keras.preprocessing import image_dataset_from_directory\n",
    "\n",
    "\n",
    "\n",
    "data_train = image_dataset_from_directory('/home/max/Dokumente/Lissabon/Bootcamp/project/DataClass2/NewTraining/',          \n",
    "                                        labels ='inferred',\n",
    "                                        label_mode='binary',\n",
    "                                        color_mode='rgb',                         \n",
    "                                        batch_size=64,\n",
    "                                        image_size=(200,200),\n",
    "                                        shuffle=True,\n",
    "                                        seed=42,\n",
    "                                        validation_split=0.3,\n",
    "                                        subset='training')\n",
    "\n"
   ]
  },
  {
   "cell_type": "code",
   "execution_count": 7,
   "id": "3c81c401",
   "metadata": {},
   "outputs": [
    {
     "name": "stdout",
     "output_type": "stream",
     "text": [
      "Found 10661 files belonging to 2 classes.\n",
      "Using 3198 files for validation.\n"
     ]
    }
   ],
   "source": [
    "data_val = image_dataset_from_directory('/home/max/Dokumente/Lissabon/Bootcamp/project/DataClass2/NewTraining/',          \n",
    "                                        labels ='inferred',\n",
    "                                        label_mode='binary',\n",
    "                                        color_mode='rgb',                         \n",
    "                                        batch_size=64,\n",
    "                                        image_size=(200,200),\n",
    "                                        shuffle=True,\n",
    "                                        seed=42,\n",
    "                                        validation_split=0.3,\n",
    "                                        subset='validation')"
   ]
  },
  {
   "cell_type": "code",
   "execution_count": null,
   "id": "2d2d9147",
   "metadata": {},
   "outputs": [],
   "source": [
    "\n"
   ]
  },
  {
   "cell_type": "code",
   "execution_count": 11,
   "id": "a8b10d76",
   "metadata": {},
   "outputs": [
    {
     "name": "stdout",
     "output_type": "stream",
     "text": [
      "Model: \"sequential_2\"\n",
      "_________________________________________________________________\n",
      "Layer (type)                 Output Shape              Param #   \n",
      "=================================================================\n",
      "rescaling_2 (Rescaling)      (None, 200, 200, 3)       0         \n",
      "_________________________________________________________________\n",
      "conv2d_6 (Conv2D)            (None, 198, 198, 16)      448       \n",
      "_________________________________________________________________\n",
      "max_pooling2d_6 (MaxPooling2 (None, 99, 99, 16)        0         \n",
      "_________________________________________________________________\n",
      "dropout_8 (Dropout)          (None, 99, 99, 16)        0         \n",
      "_________________________________________________________________\n",
      "conv2d_7 (Conv2D)            (None, 97, 97, 32)        4640      \n",
      "_________________________________________________________________\n",
      "max_pooling2d_7 (MaxPooling2 (None, 48, 48, 32)        0         \n",
      "_________________________________________________________________\n",
      "dropout_9 (Dropout)          (None, 48, 48, 32)        0         \n",
      "_________________________________________________________________\n",
      "conv2d_8 (Conv2D)            (None, 46, 46, 64)        18496     \n",
      "_________________________________________________________________\n",
      "max_pooling2d_8 (MaxPooling2 (None, 23, 23, 64)        0         \n",
      "_________________________________________________________________\n",
      "dropout_10 (Dropout)         (None, 23, 23, 64)        0         \n",
      "_________________________________________________________________\n",
      "flatten_2 (Flatten)          (None, 33856)             0         \n",
      "_________________________________________________________________\n",
      "dense_4 (Dense)              (None, 64)                2166848   \n",
      "_________________________________________________________________\n",
      "dropout_11 (Dropout)         (None, 64)                0         \n",
      "_________________________________________________________________\n",
      "dense_5 (Dense)              (None, 1)                 65        \n",
      "=================================================================\n",
      "Total params: 2,190,497\n",
      "Trainable params: 2,190,497\n",
      "Non-trainable params: 0\n",
      "_________________________________________________________________\n"
     ]
    }
   ],
   "source": [
    "from tensorflow.keras import models\n",
    "from tensorflow.keras import layers\n",
    "from tensorflow.keras.layers.experimental.preprocessing import Rescaling\n",
    "\n",
    "model = models.Sequential()\n",
    "model.add(Rescaling(1./255, input_shape=(200,200,3)))\n",
    "model.add(layers.Conv2D(16, (3,3), activation='relu'))\n",
    "model.add(layers.MaxPool2D(pool_size=(2,2)))\n",
    "model.add(layers.Dropout(0.1))\n",
    "model.add(layers.Conv2D(32, (3,3), activation='relu'))\n",
    "model.add(layers.MaxPool2D(pool_size=(2,2)))\n",
    "model.add(layers.Dropout(0.2))\n",
    "model.add(layers.Conv2D(64, (3,3), activation='relu'))\n",
    "model.add(layers.MaxPool2D(pool_size=(2,2)))\n",
    "model.add(layers.Dropout(0.3))\n",
    "model.add(layers.Flatten())\n",
    "model.add(layers.Dense(64, activation='relu'))\n",
    "model.add(layers.Dropout(0.5))\n",
    "model.add(layers.Dense(1, activation='sigmoid'))\n",
    "\n",
    "model.summary()"
   ]
  },
  {
   "cell_type": "code",
   "execution_count": 12,
   "id": "638991b3",
   "metadata": {},
   "outputs": [],
   "source": [
    "from tensorflow.keras import optimizers\n",
    "\n",
    "adam = optimizers.Adam()\n",
    "\n",
    "model.compile(loss='binary_crossentropy',\n",
    "             optimizer=adam,\n",
    "             metrics=['accuracy','Recall'])"
   ]
  },
  {
   "cell_type": "code",
   "execution_count": 13,
   "id": "e4da9832",
   "metadata": {},
   "outputs": [
    {
     "name": "stdout",
     "output_type": "stream",
     "text": [
      "Epoch 1/15\n"
     ]
    },
    {
     "name": "stderr",
     "output_type": "stream",
     "text": [
      "2021-12-07 14:59:33.564084: I tensorflow/compiler/mlir/mlir_graph_optimization_pass.cc:176] None of the MLIR Optimization Passes are enabled (registered 2)\n",
      "2021-12-07 14:59:33.590404: I tensorflow/core/platform/profile_utils/cpu_utils.cc:114] CPU Frequency: 2894705000 Hz\n"
     ]
    },
    {
     "name": "stdout",
     "output_type": "stream",
     "text": [
      "117/117 [==============================] - 107s 909ms/step - loss: 0.5018 - accuracy: 0.7785 - recall: 0.4295 - val_loss: 0.5054 - val_accuracy: 0.7992 - val_recall: 0.5721\n",
      "Epoch 2/15\n",
      "117/117 [==============================] - 106s 904ms/step - loss: 0.4786 - accuracy: 0.7957 - recall: 0.5421 - val_loss: 0.4681 - val_accuracy: 0.8021 - val_recall: 0.5283\n",
      "Epoch 3/15\n",
      "117/117 [==============================] - 105s 900ms/step - loss: 0.4685 - accuracy: 0.8010 - recall: 0.5489 - val_loss: 0.4513 - val_accuracy: 0.8093 - val_recall: 0.5975\n",
      "Epoch 4/15\n",
      "117/117 [==============================] - 106s 904ms/step - loss: 0.4668 - accuracy: 0.8104 - recall: 0.5595 - val_loss: 0.4464 - val_accuracy: 0.8093 - val_recall: 0.5468\n",
      "Epoch 5/15\n",
      "117/117 [==============================] - 105s 900ms/step - loss: 0.4500 - accuracy: 0.8107 - recall: 0.5785 - val_loss: 0.4432 - val_accuracy: 0.8096 - val_recall: 0.5487\n",
      "Epoch 6/15\n",
      "117/117 [==============================] - 106s 903ms/step - loss: 0.4389 - accuracy: 0.8160 - recall: 0.5920 - val_loss: 0.4348 - val_accuracy: 0.8261 - val_recall: 0.6160\n",
      "Epoch 7/15\n",
      "117/117 [==============================] - 106s 902ms/step - loss: 0.4190 - accuracy: 0.8246 - recall: 0.6102 - val_loss: 0.4029 - val_accuracy: 0.8399 - val_recall: 0.6355\n",
      "Epoch 8/15\n",
      "117/117 [==============================] - 106s 902ms/step - loss: 0.4186 - accuracy: 0.8275 - recall: 0.6314 - val_loss: 0.4246 - val_accuracy: 0.8296 - val_recall: 0.6979\n",
      "Epoch 9/15\n",
      "117/117 [==============================] - 105s 899ms/step - loss: 0.4052 - accuracy: 0.8318 - recall: 0.6462 - val_loss: 0.3930 - val_accuracy: 0.8437 - val_recall: 0.6676\n",
      "Epoch 10/15\n",
      "117/117 [==============================] - 105s 896ms/step - loss: 0.3855 - accuracy: 0.8472 - recall: 0.6653 - val_loss: 0.3842 - val_accuracy: 0.8421 - val_recall: 0.5926\n",
      "Epoch 11/15\n",
      "117/117 [==============================] - 105s 898ms/step - loss: 0.3826 - accuracy: 0.8491 - recall: 0.6708 - val_loss: 0.3894 - val_accuracy: 0.8440 - val_recall: 0.6559\n",
      "Epoch 12/15\n",
      "117/117 [==============================] - 105s 896ms/step - loss: 0.3765 - accuracy: 0.8483 - recall: 0.6703 - val_loss: 0.3792 - val_accuracy: 0.8465 - val_recall: 0.6491\n",
      "Epoch 13/15\n",
      "117/117 [==============================] - 105s 898ms/step - loss: 0.3578 - accuracy: 0.8545 - recall: 0.6915 - val_loss: 0.3622 - val_accuracy: 0.8549 - val_recall: 0.6491\n",
      "Epoch 14/15\n",
      "117/117 [==============================] - 105s 897ms/step - loss: 0.3546 - accuracy: 0.8565 - recall: 0.6991 - val_loss: 0.3713 - val_accuracy: 0.8477 - val_recall: 0.6033\n",
      "Epoch 15/15\n",
      "117/117 [==============================] - 105s 896ms/step - loss: 0.3453 - accuracy: 0.8606 - recall: 0.7097 - val_loss: 0.4093 - val_accuracy: 0.8271 - val_recall: 0.7953\n"
     ]
    }
   ],
   "source": [
    "from tensorflow.keras import callbacks\n",
    "\n",
    "es = callbacks.EarlyStopping(patience=2, restore_best_weights=True)\n",
    "\n",
    "history = model.fit(data_train,\n",
    "                    epochs=15,\n",
    "                    callbacks=es,\n",
    "                    validation_data=data_val)"
   ]
  },
  {
   "cell_type": "code",
   "execution_count": 14,
   "id": "43cd8c09",
   "metadata": {},
   "outputs": [
    {
     "data": {
      "image/png": "[encoded data removed]",
      "text/plain": [
       "<Figure size 432x288 with 1 Axes>"
      ]
     },
     "metadata": {
      "needs_background": "light"
     },
     "output_type": "display_data"
    }
   ],
   "source": [
    "import matplotlib.pyplot as plt\n",
    "\n",
    "plt.plot(history.history['accuracy'])\n",
    "plt.plot(history.history['val_accuracy'])\n",
    "plt.title('model accuracy')\n",
    "plt.ylabel('accuracy')\n",
    "plt.xlabel('epoch')\n",
    "plt.legend(['train', 'val'], loc='upper left')\n",
    "plt.show()"
   ]
  },
  {
   "cell_type": "code",
   "execution_count": 15,
   "id": "ef07289a",
   "metadata": {},
   "outputs": [
    {
     "data": {
      "image/png": "[encoded data removed]",
      "text/plain": [
       "<Figure size 432x288 with 1 Axes>"
      ]
     },
     "metadata": {
      "needs_background": "light"
     },
     "output_type": "display_data"
    }
   ],
   "source": [
    "plt.plot(history.history['loss'])\n",
    "plt.plot(history.history['val_loss'])\n",
    "plt.title('model loss')\n",
    "plt.ylabel('loss')\n",
    "plt.xlabel('epoch')\n",
    "plt.legend(['train', 'val'], loc='upper right')\n",
    "plt.show()"
   ]
  },
  {
   "cell_type": "code",
   "execution_count": null,
   "id": "3b75c1c2",
   "metadata": {},
   "outputs": [],
   "source": []
  }
 ],
 "metadata": {
  "kernelspec": {
   "display_name": "Python 3 (ipykernel)",
   "language": "python",
   "name": "python3"
  },
  "language_info": {
   "codemirror_mode": {
    "name": "ipython",
    "version": 3
   },
   "file_extension": ".py",
   "mimetype": "text/x-python",
   "name": "python",
   "nbconvert_exporter": "python",
   "pygments_lexer": "ipython3",
   "version": "3.8.12"
  },
  "toc": {
   "base_numbering": 1,
   "nav_menu": {},
   "number_sections": true,
   "sideBar": true,
   "skip_h1_title": false,
   "title_cell": "Table of Contents",
   "title_sidebar": "Contents",
   "toc_cell": false,
   "toc_position": {},
   "toc_section_display": true,
   "toc_window_display": false
  }
 },
 "nbformat": 4,
 "nbformat_minor": 5
}
