{
 "cells": [
  {
   "cell_type": "markdown",
   "id": "4cb962f7",
   "metadata": {},
   "source": [
    "WBC/RBC - Classifier"
   ]
  },
  {
   "cell_type": "code",
   "execution_count": 47,
   "id": "77f56c88",
   "metadata": {},
   "outputs": [
    {
     "name": "stdout",
     "output_type": "stream",
     "text": [
      "Found 42667 files belonging to 2 classes.\n",
      "Using 29867 files for training.\n"
     ]
    },
    {
     "data": {
      "text/plain": [
       "<BatchDataset shapes: ((None, 150, 150, 3), (None, 1)), types: (tf.float32, tf.float32)>"
      ]
     },
     "execution_count": 47,
     "metadata": {},
     "output_type": "execute_result"
    }
   ],
   "source": [
    "\n",
    "from tensorflow.keras.preprocessing import image_dataset_from_directory\n",
    "\n",
    "\n",
    "\n",
    "data_train = image_dataset_from_directory('/home/max/Dokumente/Lissabon/Bootcamp/project/DataClassifier/Testlauf1',          \n",
    "                                        labels ='inferred',\n",
    "                                        label_mode='binary',\n",
    "                                        color_mode='rgb',                         \n",
    "                                        batch_size=64,\n",
    "                                        image_size=(150,150),\n",
    "                                        shuffle=True,\n",
    "                                        seed=42,\n",
    "                                        validation_split=0.3,\n",
    "                                        subset='training')\n",
    "data_train\n"
   ]
  },
  {
   "cell_type": "code",
   "execution_count": 48,
   "id": "efb6c480",
   "metadata": {},
   "outputs": [
    {
     "name": "stdout",
     "output_type": "stream",
     "text": [
      "Found 42667 files belonging to 2 classes.\n",
      "Using 8533 files for validation.\n"
     ]
    },
    {
     "data": {
      "text/plain": [
       "<BatchDataset shapes: ((None, 150, 150, 3), (None, 1)), types: (tf.float32, tf.float32)>"
      ]
     },
     "execution_count": 48,
     "metadata": {},
     "output_type": "execute_result"
    }
   ],
   "source": [
    "data_val = image_dataset_from_directory('/home/max/Dokumente/Lissabon/Bootcamp/project/DataClassifier/Testlauf1',          \n",
    "                                        labels ='inferred',\n",
    "                                        label_mode='binary',\n",
    "                                        color_mode='rgb',                         \n",
    "                                        batch_size=64,\n",
    "                                        image_size=(150,150),\n",
    "                                        shuffle=True,\n",
    "                                        seed=42,\n",
    "                                        validation_split=0.2,\n",
    "                                        subset='validation')\n",
    "data_val"
   ]
  },
  {
   "cell_type": "code",
   "execution_count": 50,
   "id": "a762b7ef",
   "metadata": {},
   "outputs": [
    {
     "ename": "AttributeError",
     "evalue": "'BatchDataset' object has no attribute 'head'",
     "output_type": "error",
     "traceback": [
      "\u001b[0;31m---------------------------------------------------------------------------\u001b[0m",
      "\u001b[0;31mAttributeError\u001b[0m                            Traceback (most recent call last)",
      "\u001b[0;32m/tmp/ipykernel_107801/954117497.py\u001b[0m in \u001b[0;36m<module>\u001b[0;34m\u001b[0m\n\u001b[0;32m----> 1\u001b[0;31m \u001b[0mdata_val\u001b[0m\u001b[0;34m.\u001b[0m\u001b[0mhead\u001b[0m\u001b[0;34m(\u001b[0m\u001b[0;34m)\u001b[0m\u001b[0;34m\u001b[0m\u001b[0;34m\u001b[0m\u001b[0m\n\u001b[0m\u001b[1;32m      2\u001b[0m \u001b[0;34m\u001b[0m\u001b[0m\n\u001b[1;32m      3\u001b[0m \u001b[0;34m\u001b[0m\u001b[0m\n",
      "\u001b[0;31mAttributeError\u001b[0m: 'BatchDataset' object has no attribute 'head'"
     ]
    }
   ],
   "source": [
    "\n",
    "\n",
    "\n"
   ]
  },
  {
   "cell_type": "code",
   "execution_count": 51,
   "id": "c3900597",
   "metadata": {},
   "outputs": [
    {
     "name": "stdout",
     "output_type": "stream",
     "text": [
      "Model: \"sequential_12\"\n",
      "_________________________________________________________________\n",
      "Layer (type)                 Output Shape              Param #   \n",
      "=================================================================\n",
      "rescaling_12 (Rescaling)     (None, 150, 150, 3)       0         \n",
      "_________________________________________________________________\n",
      "conv2d_24 (Conv2D)           (None, 148, 148, 6)       168       \n",
      "_________________________________________________________________\n",
      "max_pooling2d_24 (MaxPooling (None, 74, 74, 6)         0         \n",
      "_________________________________________________________________\n",
      "dropout_36 (Dropout)         (None, 74, 74, 6)         0         \n",
      "_________________________________________________________________\n",
      "conv2d_25 (Conv2D)           (None, 72, 72, 12)        660       \n",
      "_________________________________________________________________\n",
      "max_pooling2d_25 (MaxPooling (None, 36, 36, 12)        0         \n",
      "_________________________________________________________________\n",
      "dropout_37 (Dropout)         (None, 36, 36, 12)        0         \n",
      "_________________________________________________________________\n",
      "flatten_12 (Flatten)         (None, 15552)             0         \n",
      "_________________________________________________________________\n",
      "dense_24 (Dense)             (None, 12)                186636    \n",
      "_________________________________________________________________\n",
      "dropout_38 (Dropout)         (None, 12)                0         \n",
      "_________________________________________________________________\n",
      "dense_25 (Dense)             (None, 1)                 13        \n",
      "=================================================================\n",
      "Total params: 187,477\n",
      "Trainable params: 187,477\n",
      "Non-trainable params: 0\n",
      "_________________________________________________________________\n"
     ]
    }
   ],
   "source": [
    "from tensorflow.keras import models\n",
    "from tensorflow.keras import layers\n",
    "from tensorflow.keras.layers.experimental.preprocessing import Rescaling\n",
    "\n",
    "model = models.Sequential()\n",
    "model.add(Rescaling(1./255, input_shape=(150,150,3)))\n",
    "model.add(layers.Conv2D(6, (3,3), activation='relu'))\n",
    "model.add(layers.MaxPool2D(pool_size=(2,2)))\n",
    "model.add(layers.Dropout(0.1))\n",
    "model.add(layers.Conv2D(12, (3,3), activation='relu'))\n",
    "model.add(layers.MaxPool2D(pool_size=(2,2)))\n",
    "model.add(layers.Dropout(0.2))\n",
    "model.add(layers.Flatten())\n",
    "model.add(layers.Dense(12, activation='relu'))\n",
    "model.add(layers.Dropout(0.3))\n",
    "model.add(layers.Dense(1, activation='sigmoid'))\n",
    "\n",
    "model.summary()"
   ]
  },
  {
   "cell_type": "code",
   "execution_count": 52,
   "id": "9e5189a4",
   "metadata": {},
   "outputs": [],
   "source": [
    "from tensorflow.keras import optimizers\n",
    "\n",
    "adam = optimizers.Adam()\n",
    "\n",
    "model.compile(loss='binary_crossentropy',\n",
    "             optimizer=adam,\n",
    "             metrics=['accuracy','Recall'])"
   ]
  },
  {
   "cell_type": "code",
   "execution_count": 53,
   "id": "5d47e2ab",
   "metadata": {},
   "outputs": [
    {
     "name": "stdout",
     "output_type": "stream",
     "text": [
      "Epoch 1/15\n",
      "467/467 [==============================] - 86s 182ms/step - loss: 0.0209 - accuracy: 0.9978 - recall: 0.9989 - val_loss: 1.2485e-05 - val_accuracy: 1.0000 - val_recall: 1.0000\n",
      "Epoch 2/15\n",
      "467/467 [==============================] - 84s 180ms/step - loss: 0.0102 - accuracy: 0.9998 - recall: 0.9993 - val_loss: 3.7189e-06 - val_accuracy: 1.0000 - val_recall: 1.0000\n",
      "Epoch 3/15\n",
      "467/467 [==============================] - 84s 179ms/step - loss: 0.0086 - accuracy: 0.9998 - recall: 0.9993 - val_loss: 9.1029e-08 - val_accuracy: 1.0000 - val_recall: 1.0000\n",
      "Epoch 4/15\n",
      "467/467 [==============================] - 84s 179ms/step - loss: 0.0074 - accuracy: 0.9997 - recall: 0.9992 - val_loss: 1.4512e-07 - val_accuracy: 1.0000 - val_recall: 1.0000\n",
      "Epoch 5/15\n",
      "467/467 [==============================] - 84s 179ms/step - loss: 0.0061 - accuracy: 0.9996 - recall: 0.9989 - val_loss: 4.3984e-08 - val_accuracy: 1.0000 - val_recall: 1.0000\n",
      "Epoch 6/15\n",
      "467/467 [==============================] - 84s 179ms/step - loss: 0.0051 - accuracy: 0.9998 - recall: 0.9993 - val_loss: 1.2359e-07 - val_accuracy: 1.0000 - val_recall: 1.0000\n",
      "Epoch 7/15\n",
      "467/467 [==============================] - 84s 179ms/step - loss: 0.0041 - accuracy: 0.9998 - recall: 0.9995 - val_loss: 2.5823e-08 - val_accuracy: 1.0000 - val_recall: 1.0000\n",
      "Epoch 8/15\n",
      "467/467 [==============================] - 84s 179ms/step - loss: 0.0033 - accuracy: 0.9998 - recall: 0.9994 - val_loss: 8.7903e-09 - val_accuracy: 1.0000 - val_recall: 1.0000\n",
      "Epoch 9/15\n",
      "467/467 [==============================] - 84s 179ms/step - loss: 0.0033 - accuracy: 0.9996 - recall: 0.9990 - val_loss: 3.6925e-09 - val_accuracy: 1.0000 - val_recall: 1.0000\n",
      "Epoch 10/15\n",
      "467/467 [==============================] - 84s 179ms/step - loss: 0.0025 - accuracy: 0.9998 - recall: 0.9995 - val_loss: 6.3408e-10 - val_accuracy: 1.0000 - val_recall: 1.0000\n",
      "Epoch 11/15\n",
      "467/467 [==============================] - 84s 179ms/step - loss: 0.0032 - accuracy: 0.9996 - recall: 0.9992 - val_loss: 0.0022 - val_accuracy: 0.9994 - val_recall: 0.9983\n",
      "Epoch 12/15\n",
      "467/467 [==============================] - 85s 182ms/step - loss: 0.0025 - accuracy: 0.9996 - recall: 0.9992 - val_loss: 7.9807e-09 - val_accuracy: 1.0000 - val_recall: 1.0000\n"
     ]
    }
   ],
   "source": [
    "from tensorflow.keras import callbacks\n",
    "\n",
    "es = callbacks.EarlyStopping(patience=2, restore_best_weights=True)\n",
    "\n",
    "history = model.fit(data_train,\n",
    "                    epochs=15,\n",
    "                    callbacks=es,\n",
    "                    validation_data=data_val)"
   ]
  },
  {
   "cell_type": "code",
   "execution_count": 54,
   "id": "86af74f6",
   "metadata": {},
   "outputs": [
    {
     "data": {
      "image/png": "[encoded data removed]",
      "text/plain": [
       "<Figure size 432x288 with 1 Axes>"
      ]
     },
     "metadata": {
      "needs_background": "light"
     },
     "output_type": "display_data"
    }
   ],
   "source": [
    "import matplotlib.pyplot as plt\n",
    "\n",
    "plt.plot(history.history['accuracy'])\n",
    "plt.plot(history.history['val_accuracy'])\n",
    "plt.title('model accuracy')\n",
    "plt.ylabel('accuracy')\n",
    "plt.xlabel('epoch')\n",
    "plt.legend(['train', 'val'], loc='upper left')\n",
    "plt.show()"
   ]
  },
  {
   "cell_type": "code",
   "execution_count": 55,
   "id": "60c8e50f",
   "metadata": {},
   "outputs": [
    {
     "data": {
      "image/png": "[encoded data removed]",
      "text/plain": [
       "<Figure size 432x288 with 1 Axes>"
      ]
     },
     "metadata": {
      "needs_background": "light"
     },
     "output_type": "display_data"
    }
   ],
   "source": [
    "plt.plot(history.history['loss'])\n",
    "plt.plot(history.history['val_loss'])\n",
    "plt.title('model loss')\n",
    "plt.ylabel('loss')\n",
    "plt.xlabel('epoch')\n",
    "plt.legend(['train', 'val'], loc='upper right')\n",
    "plt.show()"
   ]
  },
  {
   "cell_type": "code",
   "execution_count": 56,
   "id": "b27bcf01",
   "metadata": {},
   "outputs": [
    {
     "name": "stdout",
     "output_type": "stream",
     "text": [
      "134/134 [==============================] - 7s 50ms/step - loss: 6.3408e-10 - accuracy: 1.0000 - recall: 1.0000\n"
     ]
    },
    {
     "data": {
      "text/plain": [
       "{'loss': 6.340818425876193e-10, 'accuracy': 1.0, 'recall': 1.0}"
      ]
     },
     "execution_count": 56,
     "metadata": {},
     "output_type": "execute_result"
    }
   ],
   "source": [
    "model.evaluate(data_val, return_dict=True)"
   ]
  },
  {
   "cell_type": "code",
   "execution_count": null,
   "id": "5532caf8",
   "metadata": {},
   "outputs": [],
   "source": []
  }
 ],
 "metadata": {
  "kernelspec": {
   "display_name": "Python 3 (ipykernel)",
   "language": "python",
   "name": "python3"
  },
  "language_info": {
   "codemirror_mode": {
    "name": "ipython",
    "version": 3
   },
   "file_extension": ".py",
   "mimetype": "text/x-python",
   "name": "python",
   "nbconvert_exporter": "python",
   "pygments_lexer": "ipython3",
   "version": "3.8.12"
  },
  "toc": {
   "base_numbering": 1,
   "nav_menu": {},
   "number_sections": true,
   "sideBar": true,
   "skip_h1_title": false,
   "title_cell": "Table of Contents",
   "title_sidebar": "Contents",
   "toc_cell": false,
   "toc_position": {},
   "toc_section_display": true,
   "toc_window_display": false
  }
 },
 "nbformat": 4,
 "nbformat_minor": 5
}
