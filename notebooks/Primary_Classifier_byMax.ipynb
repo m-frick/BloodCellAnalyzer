{
 "cells": [
  {
   "cell_type": "markdown",
   "id": "4523d891",
   "metadata": {},
   "source": [
    "WBC/RBC - Classifier"
   ]
  },
  {
   "cell_type": "code",
   "execution_count": 34,
   "id": "0b09f6c9",
   "metadata": {},
   "outputs": [
    {
     "name": "stdout",
     "output_type": "stream",
     "text": [
      "Found 38219 files belonging to 2 classes.\n",
      "Using 30576 files for training.\n"
     ]
    },
    {
     "data": {
      "text/plain": [
       "<BatchDataset shapes: ((None, 224, 224, 3), (None, 1)), types: (tf.float32, tf.float32)>"
      ]
     },
     "execution_count": 34,
     "metadata": {},
     "output_type": "execute_result"
    }
   ],
   "source": [
    "\n",
    "from tensorflow.keras.preprocessing import image_dataset_from_directory\n",
    "\n",
    "\n",
    "\n",
    "data_train = image_dataset_from_directory('/home/max/Dokumente/Lissabon/Bootcamp/project/DataClassifier/',          \n",
    "                                        labels ='inferred',\n",
    "                                        label_mode='binary',\n",
    "                                        color_mode='rgb',                         \n",
    "                                        batch_size=64,\n",
    "                                        image_size=(150,150),\n",
    "                                        shuffle=True,\n",
    "                                        seed=42,\n",
    "                                        validation_split=0.2,\n",
    "                                        subset='training')\n",
    "data\n"
   ]
  },
  {
   "cell_type": "code",
   "execution_count": 35,
   "id": "92835651",
   "metadata": {},
   "outputs": [
    {
     "name": "stdout",
     "output_type": "stream",
     "text": [
      "Found 38219 files belonging to 2 classes.\n",
      "Using 7643 files for validation.\n"
     ]
    }
   ],
   "source": [
    "data_val = image_dataset_from_directory('/home/max/Dokumente/Lissabon/Bootcamp/project/DataClassifier/',          \n",
    "                                        labels ='inferred',\n",
    "                                        label_mode='binary',\n",
    "                                        color_mode='rgb',                         \n",
    "                                        batch_size=64,\n",
    "                                        image_size=(150,150),\n",
    "                                        shuffle=True,\n",
    "                                        seed=42,\n",
    "                                        validation_split=0.2,\n",
    "                                        subset='validation')"
   ]
  },
  {
   "cell_type": "code",
   "execution_count": null,
   "id": "546e7cad",
   "metadata": {},
   "outputs": [],
   "source": [
    "\n"
   ]
  },
  {
   "cell_type": "code",
   "execution_count": 39,
   "id": "c29a3cbf",
   "metadata": {},
   "outputs": [
    {
     "name": "stdout",
     "output_type": "stream",
     "text": [
      "Model: \"sequential_11\"\n",
      "_________________________________________________________________\n",
      "Layer (type)                 Output Shape              Param #   \n",
      "=================================================================\n",
      "rescaling_11 (Rescaling)     (None, 150, 150, 3)       0         \n",
      "_________________________________________________________________\n",
      "conv2d_22 (Conv2D)           (None, 148, 148, 8)       224       \n",
      "_________________________________________________________________\n",
      "max_pooling2d_22 (MaxPooling (None, 74, 74, 8)         0         \n",
      "_________________________________________________________________\n",
      "dropout_33 (Dropout)         (None, 74, 74, 8)         0         \n",
      "_________________________________________________________________\n",
      "conv2d_23 (Conv2D)           (None, 72, 72, 16)        1168      \n",
      "_________________________________________________________________\n",
      "max_pooling2d_23 (MaxPooling (None, 36, 36, 16)        0         \n",
      "_________________________________________________________________\n",
      "dropout_34 (Dropout)         (None, 36, 36, 16)        0         \n",
      "_________________________________________________________________\n",
      "flatten_11 (Flatten)         (None, 20736)             0         \n",
      "_________________________________________________________________\n",
      "dense_22 (Dense)             (None, 16)                331792    \n",
      "_________________________________________________________________\n",
      "dropout_35 (Dropout)         (None, 16)                0         \n",
      "_________________________________________________________________\n",
      "dense_23 (Dense)             (None, 1)                 17        \n",
      "=================================================================\n",
      "Total params: 333,201\n",
      "Trainable params: 333,201\n",
      "Non-trainable params: 0\n",
      "_________________________________________________________________\n"
     ]
    }
   ],
   "source": [
    "from tensorflow.keras import models\n",
    "from tensorflow.keras import layers\n",
    "from tensorflow.keras.layers.experimental.preprocessing import Rescaling\n",
    "\n",
    "model = models.Sequential()\n",
    "model.add(Rescaling(1./255, input_shape=(150,150,3)))\n",
    "model.add(layers.Conv2D(8, (3,3), activation='relu'))\n",
    "model.add(layers.MaxPool2D(pool_size=(2,2)))\n",
    "model.add(layers.Dropout(0.1))\n",
    "model.add(layers.Conv2D(16, (3,3), activation='relu'))\n",
    "model.add(layers.MaxPool2D(pool_size=(2,2)))\n",
    "model.add(layers.Dropout(0.2))\n",
    "model.add(layers.Flatten())\n",
    "model.add(layers.Dense(16, activation='relu'))\n",
    "model.add(layers.Dropout(0.3))\n",
    "model.add(layers.Dense(1, activation='sigmoid'))\n",
    "\n",
    "model.summary()"
   ]
  },
  {
   "cell_type": "code",
   "execution_count": 40,
   "id": "abc41cf8",
   "metadata": {},
   "outputs": [],
   "source": [
    "from tensorflow.keras import optimizers\n",
    "\n",
    "adam = optimizers.Adam()\n",
    "\n",
    "model.compile(loss='binary_crossentropy',\n",
    "             optimizer=adam,\n",
    "             metrics=['accuracy','Recall'])"
   ]
  },
  {
   "cell_type": "code",
   "execution_count": 41,
   "id": "54770703",
   "metadata": {},
   "outputs": [
    {
     "name": "stdout",
     "output_type": "stream",
     "text": [
      "Epoch 1/15\n",
      "478/478 [==============================] - 98s 204ms/step - loss: 0.1688 - accuracy: 0.9962 - recall: 0.9871 - val_loss: 0.1364 - val_accuracy: 1.0000 - val_recall: 1.0000\n",
      "Epoch 2/15\n",
      "478/478 [==============================] - 97s 204ms/step - loss: 0.1205 - accuracy: 1.0000 - recall: 1.0000 - val_loss: 0.0991 - val_accuracy: 1.0000 - val_recall: 1.0000\n",
      "Epoch 3/15\n",
      "478/478 [==============================] - 97s 203ms/step - loss: 0.0883 - accuracy: 1.0000 - recall: 1.0000 - val_loss: 0.0733 - val_accuracy: 1.0000 - val_recall: 1.0000\n",
      "Epoch 4/15\n",
      "478/478 [==============================] - 97s 203ms/step - loss: 0.0658 - accuracy: 1.0000 - recall: 1.0000 - val_loss: 0.0551 - val_accuracy: 1.0000 - val_recall: 1.0000\n",
      "Epoch 5/15\n",
      "478/478 [==============================] - 98s 204ms/step - loss: 0.0500 - accuracy: 1.0000 - recall: 1.0000 - val_loss: 0.0422 - val_accuracy: 1.0000 - val_recall: 1.0000\n",
      "Epoch 6/15\n",
      "478/478 [==============================] - 100s 210ms/step - loss: 0.0387 - accuracy: 0.9999 - recall: 1.0000 - val_loss: 0.0327 - val_accuracy: 1.0000 - val_recall: 1.0000\n",
      "Epoch 7/15\n",
      "478/478 [==============================] - 107s 224ms/step - loss: 0.0302 - accuracy: 0.9999 - recall: 1.0000 - val_loss: 0.0257 - val_accuracy: 1.0000 - val_recall: 1.0000\n",
      "Epoch 8/15\n",
      "478/478 [==============================] - 97s 203ms/step - loss: 0.0240 - accuracy: 0.9998 - recall: 0.9999 - val_loss: 0.0203 - val_accuracy: 1.0000 - val_recall: 1.0000\n",
      "Epoch 9/15\n",
      "478/478 [==============================] - 103s 216ms/step - loss: 0.0189 - accuracy: 1.0000 - recall: 1.0000 - val_loss: 0.0162 - val_accuracy: 1.0000 - val_recall: 1.0000\n",
      "Epoch 10/15\n",
      "478/478 [==============================] - 104s 217ms/step - loss: 0.0151 - accuracy: 1.0000 - recall: 1.0000 - val_loss: 0.0130 - val_accuracy: 1.0000 - val_recall: 1.0000\n",
      "Epoch 11/15\n",
      "478/478 [==============================] - 103s 216ms/step - loss: 0.0121 - accuracy: 1.0000 - recall: 1.0000 - val_loss: 0.0105 - val_accuracy: 1.0000 - val_recall: 1.0000\n",
      "Epoch 12/15\n",
      "478/478 [==============================] - 97s 203ms/step - loss: 0.0097 - accuracy: 1.0000 - recall: 1.0000 - val_loss: 0.0085 - val_accuracy: 1.0000 - val_recall: 1.0000\n",
      "Epoch 13/15\n",
      "478/478 [==============================] - 99s 208ms/step - loss: 0.0079 - accuracy: 1.0000 - recall: 1.0000 - val_loss: 0.0069 - val_accuracy: 1.0000 - val_recall: 1.0000\n",
      "Epoch 14/15\n",
      "478/478 [==============================] - 101s 212ms/step - loss: 0.0065 - accuracy: 1.0000 - recall: 1.0000 - val_loss: 0.0056 - val_accuracy: 1.0000 - val_recall: 1.0000\n",
      "Epoch 15/15\n",
      "478/478 [==============================] - 102s 212ms/step - loss: 0.0055 - accuracy: 0.9999 - recall: 1.0000 - val_loss: 0.0046 - val_accuracy: 1.0000 - val_recall: 1.0000\n"
     ]
    }
   ],
   "source": [
    "from tensorflow.keras import callbacks\n",
    "\n",
    "es = callbacks.EarlyStopping(patience=2, restore_best_weights=True)\n",
    "\n",
    "history = model.fit(data_train,\n",
    "                    epochs=15,\n",
    "                    callbacks=es,\n",
    "                    validation_data=data_val)"
   ]
  },
  {
   "cell_type": "code",
   "execution_count": 42,
   "id": "20f9e480",
   "metadata": {},
   "outputs": [
    {
     "data": {
      "image/png": "[encoded data removed]",
      "text/plain": [
       "<Figure size 432x288 with 1 Axes>"
      ]
     },
     "metadata": {
      "needs_background": "light"
     },
     "output_type": "display_data"
    }
   ],
   "source": [
    "import matplotlib.pyplot as plt\n",
    "\n",
    "plt.plot(history.history['accuracy'])\n",
    "plt.plot(history.history['val_accuracy'])\n",
    "plt.title('model accuracy')\n",
    "plt.ylabel('accuracy')\n",
    "plt.xlabel('epoch')\n",
    "plt.legend(['train', 'val'], loc='upper left')\n",
    "plt.show()"
   ]
  },
  {
   "cell_type": "code",
   "execution_count": 43,
   "id": "12833ded",
   "metadata": {},
   "outputs": [
    {
     "data": {
      "image/png": "[encoded data removed]",
      "text/plain": [
       "<Figure size 432x288 with 1 Axes>"
      ]
     },
     "metadata": {
      "needs_background": "light"
     },
     "output_type": "display_data"
    }
   ],
   "source": [
    "plt.plot(history.history['loss'])\n",
    "plt.plot(history.history['val_loss'])\n",
    "plt.title('model loss')\n",
    "plt.ylabel('loss')\n",
    "plt.xlabel('epoch')\n",
    "plt.legend(['train', 'val'], loc='upper right')\n",
    "plt.show()"
   ]
  },
  {
   "cell_type": "code",
   "execution_count": null,
   "id": "b4510261",
   "metadata": {},
   "outputs": [],
   "source": []
  }
 ],
 "metadata": {
  "kernelspec": {
   "display_name": "Python 3 (ipykernel)",
   "language": "python",
   "name": "python3"
  },
  "language_info": {
   "codemirror_mode": {
    "name": "ipython",
    "version": 3
   },
   "file_extension": ".py",
   "mimetype": "text/x-python",
   "name": "python",
   "nbconvert_exporter": "python",
   "pygments_lexer": "ipython3",
   "version": "3.8.12"
  },
  "toc": {
   "base_numbering": 1,
   "nav_menu": {},
   "number_sections": true,
   "sideBar": true,
   "skip_h1_title": false,
   "title_cell": "Table of Contents",
   "title_sidebar": "Contents",
   "toc_cell": false,
   "toc_position": {},
   "toc_section_display": true,
   "toc_window_display": false
  }
 },
 "nbformat": 4,
 "nbformat_minor": 5
}
