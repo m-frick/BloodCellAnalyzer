{
 "cells": [
  {
   "cell_type": "code",
   "execution_count": 13,
   "id": "7695a2b5",
   "metadata": {},
   "outputs": [],
   "source": [
    "from PIL import Image\n",
    "import os, sys\n",
    "\n",
    "def resize(path,dim,output_path):\n",
    "    dirs = os.listdir(path)\n",
    "    for item in dirs:\n",
    "        if os.path.isfile(path+item) and str(path+item).endswith(\".png\"):\n",
    "            im = Image.open(path+item)\n",
    "            f, e = os.path.splitext(path+item)\n",
    "            f = f.strip(path)\n",
    "            size = im.size\n",
    "            ratio = float(dim) / max(size)\n",
    "            new_image_size = tuple([int(x*ratio) for x in size])\n",
    "            im = im.resize(new_image_size, Image.ANTIALIAS)\n",
    "            imResize = im.resize((dim,dim), Image.ANTIALIAS)\n",
    "            imResize.save(output_path + f + '_resized.jpg', 'JPEG', quality=90)"
   ]
  },
  {
   "cell_type": "code",
   "execution_count": 16,
   "id": "4fbdacc9",
   "metadata": {},
   "outputs": [],
   "source": [
    "path = \"./rawdata/Uninfected/\"\n",
    "output_path = \"./rawdata/Uninfected_100/\"\n",
    "resize(path,100,output_path)"
   ]
  },
  {
   "cell_type": "code",
   "execution_count": null,
   "id": "7336f63f",
   "metadata": {},
   "outputs": [],
   "source": []
  }
 ],
 "metadata": {
  "kernelspec": {
   "display_name": "Python 3 (ipykernel)",
   "language": "python",
   "name": "python3"
  },
  "language_info": {
   "codemirror_mode": {
    "name": "ipython",
    "version": 3
   },
   "file_extension": ".py",
   "mimetype": "text/x-python",
   "name": "python",
   "nbconvert_exporter": "python",
   "pygments_lexer": "ipython3",
   "version": "3.8.12"
  },
  "toc": {
   "base_numbering": 1,
   "nav_menu": {},
   "number_sections": true,
   "sideBar": true,
   "skip_h1_title": false,
   "title_cell": "Table of Contents",
   "title_sidebar": "Contents",
   "toc_cell": false,
   "toc_position": {},
   "toc_section_display": true,
   "toc_window_display": false
  }
 },
 "nbformat": 4,
 "nbformat_minor": 5
}
