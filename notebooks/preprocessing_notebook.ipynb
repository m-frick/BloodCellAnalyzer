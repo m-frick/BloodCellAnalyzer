{
 "cells": [
  {
   "cell_type": "code",
   "execution_count": 13,
   "id": "7695a2b5",
   "metadata": {},
   "outputs": [],
   "source": [
    "from PIL import Image\n",
    "import os, sys\n",
    "\n",
    "def resize(path,dim,output_path):\n",
    "    dirs = os.listdir(path)\n",
    "    for item in dirs:\n",
    "        if os.path.isfile(path+item) and str(path+item).endswith(\".png\"):\n",
    "            im = Image.open(path+item)\n",
    "            f, e = os.path.splitext(path+item)\n",
    "            f = f.strip(path)\n",
    "            size = im.size\n",
    "            ratio = float(dim) / max(size)\n",
    "            new_image_size = tuple([int(x*ratio) for x in size])\n",
    "            im = im.resize(new_image_size, Image.ANTIALIAS)\n",
    "            imResize = im.resize((dim,dim), Image.ANTIALIAS)\n",
    "            imResize.save(output_path + f + '_resized.jpg', 'JPEG', quality=90)"
   ]
  },
  {
   "cell_type": "code",
   "execution_count": 16,
   "id": "4fbdacc9",
   "metadata": {},
   "outputs": [],
   "source": [
    "path = \"./rawdata/Uninfected/\"\n",
    "output_path = \"./rawdata/Uninfected_100/\"\n",
    "resize(path,100,output_path)"
   ]
  },
  {
   "cell_type": "code",
   "execution_count": 10,
   "id": "7336f63f",
   "metadata": {},
   "outputs": [],
   "source": [
    "from tensorflow.keras.applications.resnet50 import ResNet50\n",
    "from tensorflow.keras.layers import Dense, GlobalAveragePooling2D\n",
    "from tensorflow.keras import Model, Input"
   ]
  },
  {
   "cell_type": "markdown",
   "id": "3e735f93",
   "metadata": {},
   "source": [
    "### Size 100 x 100 seemed to low"
   ]
  },
  {
   "cell_type": "code",
   "execution_count": 13,
   "id": "d3a83302",
   "metadata": {},
   "outputs": [],
   "source": [
    "resnet50_100 = ResNet50(\n",
    "    include_top=False, weights='imagenet',\n",
    "    input_shape=(100,100,3),classes=2\n",
    ")\n",
    "\n",
    "resnet50_100.trainable = False\n",
    "\n",
    "input_resnet50_100 = Input(shape=(100, 100, 3))\n",
    "x = resnet50_100(input_resnet50_100, training=False)\n",
    "x = GlobalAveragePooling2D()(x)\n",
    "outputs = Dense(1)(x)\n",
    "model_resnet50_100 = Model(input_resnet50_100, outputs)"
   ]
  },
  {
   "cell_type": "code",
   "execution_count": 14,
   "id": "0a178658",
   "metadata": {},
   "outputs": [
    {
     "name": "stdout",
     "output_type": "stream",
     "text": [
      "Model: \"model\"\n",
      "_________________________________________________________________\n",
      "Layer (type)                 Output Shape              Param #   \n",
      "=================================================================\n",
      "input_10 (InputLayer)        [(None, 100, 100, 3)]     0         \n",
      "_________________________________________________________________\n",
      "resnet50 (Functional)        (None, 4, 4, 2048)        23587712  \n",
      "_________________________________________________________________\n",
      "global_average_pooling2d_1 ( (None, 2048)              0         \n",
      "_________________________________________________________________\n",
      "dense_1 (Dense)              (None, 1)                 2049      \n",
      "=================================================================\n",
      "Total params: 23,589,761\n",
      "Trainable params: 2,049\n",
      "Non-trainable params: 23,587,712\n",
      "_________________________________________________________________\n"
     ]
    }
   ],
   "source": [
    "model_resnet50_100.summary()"
   ]
  },
  {
   "cell_type": "code",
   "execution_count": 15,
   "id": "25065daf",
   "metadata": {},
   "outputs": [],
   "source": [
    "resnet50_224 = ResNet50(\n",
    "    include_top=False, weights='imagenet',\n",
    "    input_shape=(224,224,3),classes=2\n",
    ")\n",
    "\n",
    "resnet50_224.trainable = False\n",
    "\n",
    "input_resnet50_224 = Input(shape=(224, 224, 3))\n",
    "x = resnet50_224(input_resnet50_224, training=False)\n",
    "x = GlobalAveragePooling2D()(x)\n",
    "outputs = Dense(1)(x)\n",
    "model_resnet50_224 = Model(input_resnet50_224, outputs)"
   ]
  },
  {
   "cell_type": "code",
   "execution_count": 16,
   "id": "9aeb763f",
   "metadata": {},
   "outputs": [
    {
     "name": "stdout",
     "output_type": "stream",
     "text": [
      "Model: \"model_1\"\n",
      "_________________________________________________________________\n",
      "Layer (type)                 Output Shape              Param #   \n",
      "=================================================================\n",
      "input_12 (InputLayer)        [(None, 224, 224, 3)]     0         \n",
      "_________________________________________________________________\n",
      "resnet50 (Functional)        (None, 7, 7, 2048)        23587712  \n",
      "_________________________________________________________________\n",
      "global_average_pooling2d_2 ( (None, 2048)              0         \n",
      "_________________________________________________________________\n",
      "dense_2 (Dense)              (None, 1)                 2049      \n",
      "=================================================================\n",
      "Total params: 23,589,761\n",
      "Trainable params: 2,049\n",
      "Non-trainable params: 23,587,712\n",
      "_________________________________________________________________\n"
     ]
    }
   ],
   "source": [
    "model_resnet50_224.summary()"
   ]
  },
  {
   "cell_type": "code",
   "execution_count": 19,
   "id": "22fa798a",
   "metadata": {},
   "outputs": [],
   "source": [
    "resnet50_227 = ResNet50(\n",
    "    include_top=False, weights='imagenet',\n",
    "    input_shape=(227,227,3), classes=2\n",
    ")\n",
    "\n",
    "resnet50_227.trainable = False\n",
    "\n",
    "input_resnet50_227 = Input(shape=(227, 227, 3))\n",
    "x = resnet50_227(input_resnet50_227, training=False)\n",
    "x = GlobalAveragePooling2D()(x)\n",
    "outputs = Dense(1)(x)\n",
    "model_resnet50_227 = Model(input_resnet50_227, outputs)"
   ]
  },
  {
   "cell_type": "code",
   "execution_count": 21,
   "id": "fca1cbcb",
   "metadata": {},
   "outputs": [
    {
     "name": "stdout",
     "output_type": "stream",
     "text": [
      "Model: \"model_3\"\n",
      "_________________________________________________________________\n",
      "Layer (type)                 Output Shape              Param #   \n",
      "=================================================================\n",
      "input_16 (InputLayer)        [(None, 227, 227, 3)]     0         \n",
      "_________________________________________________________________\n",
      "resnet50 (Functional)        (None, 8, 8, 2048)        23587712  \n",
      "_________________________________________________________________\n",
      "global_average_pooling2d_4 ( (None, 2048)              0         \n",
      "_________________________________________________________________\n",
      "dense_4 (Dense)              (None, 1)                 2049      \n",
      "=================================================================\n",
      "Total params: 23,589,761\n",
      "Trainable params: 2,049\n",
      "Non-trainable params: 23,587,712\n",
      "_________________________________________________________________\n"
     ]
    }
   ],
   "source": [
    "model_resnet50_227.summary()"
   ]
  },
  {
   "cell_type": "code",
   "execution_count": 22,
   "id": "b43137b2",
   "metadata": {},
   "outputs": [],
   "source": [
    "resnet50_299 = ResNet50(\n",
    "    include_top=False, weights='imagenet',\n",
    "    input_shape=(299,299,3),classes=2\n",
    ")\n",
    "\n",
    "resnet50_299.trainable = False\n",
    "\n",
    "input_resnet50_299 = Input(shape=(299, 299, 3))\n",
    "x = resnet50_299(input_resnet50_299, training=False)\n",
    "x = GlobalAveragePooling2D()(x)\n",
    "outputs = Dense(1)(x)\n",
    "model_resnet50_299 = Model(input_resnet50_299, outputs)"
   ]
  },
  {
   "cell_type": "code",
   "execution_count": 23,
   "id": "feee3576",
   "metadata": {},
   "outputs": [
    {
     "name": "stdout",
     "output_type": "stream",
     "text": [
      "Model: \"model_4\"\n",
      "_________________________________________________________________\n",
      "Layer (type)                 Output Shape              Param #   \n",
      "=================================================================\n",
      "input_18 (InputLayer)        [(None, 299, 299, 3)]     0         \n",
      "_________________________________________________________________\n",
      "resnet50 (Functional)        (None, 10, 10, 2048)      23587712  \n",
      "_________________________________________________________________\n",
      "global_average_pooling2d_5 ( (None, 2048)              0         \n",
      "_________________________________________________________________\n",
      "dense_5 (Dense)              (None, 1)                 2049      \n",
      "=================================================================\n",
      "Total params: 23,589,761\n",
      "Trainable params: 2,049\n",
      "Non-trainable params: 23,587,712\n",
      "_________________________________________________________________\n"
     ]
    }
   ],
   "source": [
    "model_resnet50_299.summary()"
   ]
  },
  {
   "cell_type": "code",
   "execution_count": null,
   "id": "80b9a5da",
   "metadata": {},
   "outputs": [],
   "source": []
  }
 ],
 "metadata": {
  "kernelspec": {
   "display_name": "Python 3 (ipykernel)",
   "language": "python",
   "name": "python3"
  },
  "language_info": {
   "codemirror_mode": {
    "name": "ipython",
    "version": 3
   },
   "file_extension": ".py",
   "mimetype": "text/x-python",
   "name": "python",
   "nbconvert_exporter": "python",
   "pygments_lexer": "ipython3",
   "version": "3.8.12"
  },
  "toc": {
   "base_numbering": 1,
   "nav_menu": {},
   "number_sections": true,
   "sideBar": true,
   "skip_h1_title": false,
   "title_cell": "Table of Contents",
   "title_sidebar": "Contents",
   "toc_cell": false,
   "toc_position": {},
   "toc_section_display": true,
   "toc_window_display": false
  }
 },
 "nbformat": 4,
 "nbformat_minor": 5
}
